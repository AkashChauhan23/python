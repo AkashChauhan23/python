{
  "nbformat": 4,
  "nbformat_minor": 0,
  "metadata": {
    "colab": {
      "provenance": [],
      "toc_visible": true,
      "collapsed_sections": [
        "zqYKtEqDkbMh",
        "QL0Bk2I0kz9-",
        "gAuJu9pGjjab",
        "0CbSKu2sjIgy",
        "TTNKKalTLUZ1",
        "z9Nk87mKSUuJ"
      ],
      "authorship_tag": "ABX9TyNSCvd2FWnrVMadnzS80UVt",
      "include_colab_link": true
    },
    "kernelspec": {
      "name": "python3",
      "display_name": "Python 3"
    },
    "language_info": {
      "name": "python"
    }
  },
  "cells": [
    {
      "cell_type": "markdown",
      "metadata": {
        "id": "view-in-github",
        "colab_type": "text"
      },
      "source": [
        "<a href=\"https://colab.research.google.com/github/akashchauhan087/python/blob/main/Practice.ipynb\" target=\"_parent\"><img src=\"https://colab.research.google.com/assets/colab-badge.svg\" alt=\"Open In Colab\"/></a>"
      ]
    },
    {
      "cell_type": "markdown",
      "source": [
        "### Basic Practice"
      ],
      "metadata": {
        "id": "zqYKtEqDkbMh"
      }
    },
    {
      "cell_type": "code",
      "source": [
        "b = 2\n",
        "\n",
        "def countfun(b):\n",
        "  count = 0\n",
        "  for i in range(1,7):\n",
        "    for j in range(b, 7):\n",
        "      print(\"(\",i , j, \")\", end =\" \")\n",
        "      count = count +1\n",
        "    print(\"\\n\")\n",
        "  print (\"count\", count)\n",
        "\n",
        "countfun(b)\n"
      ],
      "metadata": {
        "id": "i-tfvy4sokv0",
        "colab": {
          "base_uri": "https://localhost:8080/"
        },
        "outputId": "bcb82060-4f50-4a8a-9591-5121d82de9e6"
      },
      "execution_count": null,
      "outputs": [
        {
          "output_type": "stream",
          "name": "stdout",
          "text": [
            "( 1 2 ) ( 1 3 ) ( 1 4 ) ( 1 5 ) ( 1 6 ) \n",
            "\n",
            "( 2 2 ) ( 2 3 ) ( 2 4 ) ( 2 5 ) ( 2 6 ) \n",
            "\n",
            "( 3 2 ) ( 3 3 ) ( 3 4 ) ( 3 5 ) ( 3 6 ) \n",
            "\n",
            "( 4 2 ) ( 4 3 ) ( 4 4 ) ( 4 5 ) ( 4 6 ) \n",
            "\n",
            "( 5 2 ) ( 5 3 ) ( 5 4 ) ( 5 5 ) ( 5 6 ) \n",
            "\n",
            "( 6 2 ) ( 6 3 ) ( 6 4 ) ( 6 5 ) ( 6 6 ) \n",
            "\n",
            "count 30\n"
          ]
        }
      ]
    },
    {
      "cell_type": "code",
      "source": [
        "count = 0\n",
        "for i in range(1,3):\n",
        "  for j in range(i,7):\n",
        "    count = count+1\n",
        "    print(\"i j\", i,\"  \",j)\n",
        "print(count)\n"
      ],
      "metadata": {
        "id": "Nq4cSC-Hp-72"
      },
      "execution_count": null,
      "outputs": []
    },
    {
      "cell_type": "code",
      "source": [
        "list_1 = []\n",
        "print(\"List_1 \", '-'*10+ '>' ,list_1)\n",
        "\n",
        "inp_data = list(map(float, input(\"Enter the data you want to enter : \").split()))\n",
        "\n",
        "print(\"List_data is \", '-'*10+ '>' , inp_data)\n",
        "\n",
        "print(\"List_1 \", '-'*10+ '>' ,list_1.append(inp_data) )\n"
      ],
      "metadata": {
        "colab": {
          "base_uri": "https://localhost:8080/"
        },
        "id": "b0LduHUdyWuU",
        "outputId": "f9a86d8c-b90a-4337-ef31-9b38635229c7"
      },
      "execution_count": null,
      "outputs": [
        {
          "output_type": "stream",
          "name": "stdout",
          "text": [
            "List_1  ----------> []\n",
            "Enter the data you want to enter : 1 2 3\n",
            "List_data is  ----------> [1.0, 2.0, 3.0]\n",
            "List_1  ----------> None\n"
          ]
        }
      ]
    },
    {
      "cell_type": "code",
      "source": [
        "my_list = []\n",
        "\n",
        "# Add input data using + operator\n",
        "data = input(\"Enter a value: \")\n",
        "my_list += [data]\n",
        "\n",
        "# Print the updated list\n",
        "print(my_list)\n",
        "print(type(my_list))\n",
        "print(my_list[0])"
      ],
      "metadata": {
        "colab": {
          "base_uri": "https://localhost:8080/"
        },
        "id": "rpEwLwEH0ER3",
        "outputId": "66278d29-c759-4ba0-e31e-caeef5e7ec0f"
      },
      "execution_count": null,
      "outputs": [
        {
          "output_type": "stream",
          "name": "stdout",
          "text": [
            "Enter a value: 1 2 3 4\n",
            "['1 2 3 4']\n",
            "<class 'list'>\n",
            "1 2 3 4\n"
          ]
        }
      ]
    },
    {
      "cell_type": "markdown",
      "source": [
        "# ***Decorators***"
      ],
      "metadata": {
        "id": "QL0Bk2I0kz9-"
      }
    },
    {
      "cell_type": "code",
      "source": [
        "def decorator(func):\n",
        "  def wrapper():\n",
        "    fun_op = func()\n",
        "    return fun_op + 10\n",
        "  return wrapper\n",
        "\n",
        "@decorator\n",
        "def sum():\n",
        "  a = 10\n",
        "  b = 20\n",
        "  return a+b\n",
        "\n",
        "obj_sum = sum()\n",
        "print(obj_sum)"
      ],
      "metadata": {
        "id": "h6XyLH4JjEtC"
      },
      "execution_count": null,
      "outputs": []
    },
    {
      "cell_type": "code",
      "source": [
        "def decor(func):\n",
        "  def wrapper():\n",
        "    a = func()\n",
        "    c = a+100\n",
        "    return c\n",
        "  return wrapper\n",
        "\n",
        "@decor\n",
        "def add(a = 20, b = 30):\n",
        "  return a+b\n",
        "\n",
        "obj = add()\n",
        "print('the sub is', obj)"
      ],
      "metadata": {
        "id": "fVxsLLz9iztL"
      },
      "execution_count": null,
      "outputs": []
    },
    {
      "cell_type": "code",
      "source": [
        "import traceback\n",
        "\n",
        "def greet(func):\n",
        "  def greetFn(data):\n",
        "    print(\"Welcome to Sort function \")\n",
        "    func(data)\n",
        "    print(\"See you next time.Thank you!!!\")\n",
        "  return greetFn\n",
        "\n",
        "list_a = [1, 4, 3, 0, 10, 2, 1]\n",
        "\n",
        "@greet\n",
        "def sortnumberlist(data):\n",
        "  return_data = sorted(data)\n",
        "  print(\"Sorted list is : \", return_data)\n",
        "\n",
        "try:\n",
        "  sortnumberlist(list_a)\n",
        "except Exception as e:\n",
        "  print(traceback.format_exc())\n",
        "  print(\"Exception : \",e)\n",
        "\n",
        "\n"
      ],
      "metadata": {
        "colab": {
          "base_uri": "https://localhost:8080/"
        },
        "id": "1kgSK1jzvSDv",
        "outputId": "95388fae-ab86-4d91-81e8-e49d06d2964f"
      },
      "execution_count": null,
      "outputs": [
        {
          "output_type": "stream",
          "name": "stdout",
          "text": [
            "Welcome to Sort function \n",
            "Sorted list is :  [0, 1, 1, 2, 3, 4, 10]\n",
            "See you next time.Thank you!!!\n"
          ]
        }
      ]
    },
    {
      "cell_type": "code",
      "source": [
        "list_a = [1, 2, 3, 4, 5, 6, 7, 8]\n",
        "def greet(func):\n",
        "  def greet_ret(data):\n",
        "    print(\"Welcome to the world!!!\")\n",
        "    func(data)\n",
        "    print(\"Thank you for your time!!!\")\n",
        "  return greet_ret\n",
        "\n",
        "@greet\n",
        "def sumOfList(list_data):\n",
        "  print(\"The sum is : \",list_data)\n",
        "\n",
        "# function call\n",
        "sumOfList(list_a)"
      ],
      "metadata": {
        "colab": {
          "base_uri": "https://localhost:8080/"
        },
        "id": "u-457amzH0F6",
        "outputId": "22573a1a-47d7-4eed-fca1-cfab6c3eef53"
      },
      "execution_count": null,
      "outputs": [
        {
          "output_type": "stream",
          "name": "stdout",
          "text": [
            "Welcome to the world!!!\n",
            "The sum is :  [1, 2, 3, 4, 5, 6, 7, 8]\n",
            "Thank you for your time!!!\n"
          ]
        }
      ]
    },
    {
      "cell_type": "code",
      "source": [
        "def sumOfList(list_data):\n",
        "  print(\"The sum is : \",sum(list_data))\n",
        "  return sum(list_data)\n",
        "\n",
        "# Alternative\n",
        "obj_data = greet(sumOfList)\n",
        "print(\"Alternative\",obj_data(list_a))"
      ],
      "metadata": {
        "colab": {
          "base_uri": "https://localhost:8080/"
        },
        "id": "WMzZk-y0rxAh",
        "outputId": "c0bee00e-4fe7-42db-bed5-af50bf17a236"
      },
      "execution_count": null,
      "outputs": [
        {
          "output_type": "stream",
          "name": "stdout",
          "text": [
            "Welcome to the world!!!\n",
            "The sum is :  36\n",
            "Thank you for your time!!!\n",
            "Alternative None\n"
          ]
        }
      ]
    },
    {
      "cell_type": "markdown",
      "source": [
        "# List Manipulation *(ShallowCopy & DeepCopy)*"
      ],
      "metadata": {
        "id": "gAuJu9pGjjab"
      }
    },
    {
      "cell_type": "code",
      "source": [
        "lst = [1,2,3,4,[10,11,12,13]]\n",
        "lst1 = lst\n",
        "lst[3] = 40\n",
        "print(lst)\n",
        "print(lst1)\n",
        "\n",
        "lst[4][0] = 100\n",
        "print(lst)\n",
        "print(lst1)"
      ],
      "metadata": {
        "id": "AvvLJnEmuq6g",
        "colab": {
          "base_uri": "https://localhost:8080/"
        },
        "outputId": "230a091d-debc-41a8-d809-6046d6f24ed3"
      },
      "execution_count": null,
      "outputs": [
        {
          "output_type": "stream",
          "name": "stdout",
          "text": [
            "[1, 2, 3, 40, [10, 11, 12, 13]]\n",
            "[1, 2, 3, 40, [10, 11, 12, 13]]\n",
            "[1, 2, 3, 40, [100, 11, 12, 13]]\n",
            "[1, 2, 3, 40, [100, 11, 12, 13]]\n"
          ]
        }
      ]
    },
    {
      "cell_type": "code",
      "source": [
        "lst = [1,2,3,4,[10,11,12,13]]\n",
        "lst1 = lst.copy()\n",
        "lst[3] = 40\n",
        "print(lst)\n",
        "print(lst1)\n",
        "print()\n",
        "lst[4][0] = 100\n",
        "print(lst)\n",
        "print(lst1)"
      ],
      "metadata": {
        "colab": {
          "base_uri": "https://localhost:8080/"
        },
        "id": "4xwWZ8cY9vOH",
        "outputId": "5c2abf39-bd02-44da-f002-8dcf1433f548"
      },
      "execution_count": null,
      "outputs": [
        {
          "output_type": "stream",
          "name": "stdout",
          "text": [
            "[1, 2, 3, 40, [10, 11, 12, 13]]\n",
            "[1, 2, 3, 4, [10, 11, 12, 13]]\n",
            "\n",
            "[1, 2, 3, 40, [100, 11, 12, 13]]\n",
            "[1, 2, 3, 4, [100, 11, 12, 13]]\n"
          ]
        }
      ]
    },
    {
      "cell_type": "code",
      "source": [
        "import copy\n",
        "\n",
        "lst = [1,2,3,4,[10,11,12,13]]\n",
        "lst1 = copy.deepcopy(lst)\n",
        "lst[3] = 40\n",
        "print(lst)\n",
        "print(lst1)\n",
        "print()\n",
        "lst[4][0] = 100\n",
        "print(lst)\n",
        "print(lst1)"
      ],
      "metadata": {
        "colab": {
          "base_uri": "https://localhost:8080/"
        },
        "id": "7orO6bhH-GlC",
        "outputId": "b35af291-fa59-4fee-dc4e-c34e9828e461"
      },
      "execution_count": null,
      "outputs": [
        {
          "output_type": "stream",
          "name": "stdout",
          "text": [
            "[1, 2, 3, 40, [10, 11, 12, 13]]\n",
            "[1, 2, 3, 4, [10, 11, 12, 13]]\n",
            "\n",
            "[1, 2, 3, 40, [100, 11, 12, 13]]\n",
            "[1, 2, 3, 4, [10, 11, 12, 13]]\n"
          ]
        }
      ]
    },
    {
      "cell_type": "markdown",
      "source": [
        "# Generators"
      ],
      "metadata": {
        "id": "0CbSKu2sjIgy"
      }
    },
    {
      "cell_type": "code",
      "source": [
        "def generator():\n",
        "  for i in range(5):\n",
        "    yield i\n",
        "\n",
        "obj = generator()\n",
        "for i in obj:\n",
        "  print(i)"
      ],
      "metadata": {
        "colab": {
          "base_uri": "https://localhost:8080/"
        },
        "id": "XsSb459XBR_Z",
        "outputId": "b5360a98-f400-4b31-8524-3864d5a26c12"
      },
      "execution_count": null,
      "outputs": [
        {
          "output_type": "stream",
          "name": "stdout",
          "text": [
            "0\n",
            "1\n",
            "2\n",
            "3\n",
            "4\n"
          ]
        }
      ]
    },
    {
      "cell_type": "markdown",
      "source": [
        "# Stack"
      ],
      "metadata": {
        "id": "TTNKKalTLUZ1"
      }
    },
    {
      "cell_type": "code",
      "source": [
        "class StackClass:\n",
        "    def __init__(self):\n",
        "        self.stack = []\n",
        "\n",
        "    def stackEmptyChecker(self):\n",
        "        if len(self.stack) > 0:\n",
        "            return self.stack\n",
        "        else:\n",
        "            raise Exception(\"Stack is empty!!!\")\n",
        "\n",
        "    def push(self, element):\n",
        "        self.stack.append(element)\n",
        "        return self.stack\n",
        "\n",
        "    def pop(self):\n",
        "        self.stack = self.stackEmptyChecker()\n",
        "        poped_value, self.stack = self.stack[-1], self.stack[:-1]\n",
        "        return poped_value\n",
        "\n",
        "obj = StackClass()\n",
        "obj.push(10)\n",
        "obj.push(20)\n",
        "obj.push(30)\n",
        "obj.push(40)\n",
        "obj.push(50)\n",
        "print('The poped value is : ', obj.pop())\n",
        "print(obj.stack)"
      ],
      "metadata": {
        "colab": {
          "base_uri": "https://localhost:8080/"
        },
        "id": "w2sAilaVLZYe",
        "outputId": "a79c7a40-f118-4b0a-de04-f5b1750bc838"
      },
      "execution_count": null,
      "outputs": [
        {
          "output_type": "stream",
          "name": "stdout",
          "text": [
            "[10]\n"
          ]
        }
      ]
    },
    {
      "cell_type": "markdown",
      "source": [
        "# Queue"
      ],
      "metadata": {
        "id": "z9Nk87mKSUuJ"
      }
    },
    {
      "cell_type": "code",
      "source": [
        "class Queue:\n",
        "    def __init__(self):\n",
        "        self.queue = []\n",
        "\n",
        "    def lenQueueChecker(self):\n",
        "        if len(self.queue) > 0:\n",
        "            return self.queue\n",
        "        else:\n",
        "            raise Exception(\"Queue is empty!!!\")\n",
        "\n",
        "    def add(self, element):\n",
        "        # self.queue.append(element)\n",
        "        self.queue += [element]\n",
        "        return self.queue\n",
        "\n",
        "    def remove(self):\n",
        "        self.queue = self.lenQueueChecker()\n",
        "        remove_value, self.queue = self.queue[0], self.queue[1:]\n",
        "        return remove_value\n",
        "\n",
        "\n",
        "obj = Queue()\n",
        "obj.add(100)\n",
        "obj.add(101)\n",
        "obj.add(102)\n",
        "obj.add(103)\n",
        "\n",
        "print(\"the removed value is : \", obj.remove())\n",
        "\n",
        "print(obj.queue)"
      ],
      "metadata": {
        "colab": {
          "base_uri": "https://localhost:8080/"
        },
        "id": "VsndNJY9MVn-",
        "outputId": "a1fb3c89-38a4-4c1b-8387-cc0e52e8b462"
      },
      "execution_count": null,
      "outputs": [
        {
          "output_type": "stream",
          "name": "stdout",
          "text": [
            "the removed value is :  100\n",
            "[101, 102, 103]\n"
          ]
        }
      ]
    },
    {
      "cell_type": "markdown",
      "source": [
        "# *New*"
      ],
      "metadata": {
        "id": "VN6QzlyqS1w1"
      }
    },
    {
      "cell_type": "code",
      "source": [
        "s = 'abcabcsjhdjkshdkwdaaassdjhd'\n",
        "d = {}\n",
        "\n",
        "for ch in s:\n",
        "    if ch in d:\n",
        "        d[ch]+=1\n",
        "    else:\n",
        "        d[ch] = 1\n",
        "print(d)\n",
        "\n",
        "for k,v in d.items():\n",
        "    if v == 1:\n",
        "        print(k)\n",
        "        break"
      ],
      "metadata": {
        "id": "weM9qYYtRZaa"
      },
      "execution_count": null,
      "outputs": []
    },
    {
      "cell_type": "code",
      "source": [
        "#static,class and instance\n",
        "\n",
        "#immutable\n",
        "# tuple str int float frozenset\n",
        "\n",
        "#mutable\n",
        "# lst, dict, set\n",
        "\n",
        "# meta class in python\n",
        "\n",
        "# closures"
      ],
      "metadata": {
        "id": "PW1voi3LSu-l"
      },
      "execution_count": null,
      "outputs": []
    },
    {
      "cell_type": "markdown",
      "source": [
        "# Longest Substring Without Repeating Characters"
      ],
      "metadata": {
        "id": "Ui2iY89xBLQN"
      }
    },
    {
      "cell_type": "code",
      "source": [
        "class Solution:\n",
        "    def lengthOfLongestSubstring(self, s: str) -> int:\n",
        "        final = ''\n",
        "        lst = []\n",
        "        for i in range(len(s)):\n",
        "            sub_str = ''\n",
        "            for ch in range(i, len(s)):\n",
        "                if s[ch] not in sub_str:\n",
        "                    sub_str+=s[ch]\n",
        "                else:\n",
        "                    final = sub_str\n",
        "                    break\n",
        "            lst.append(final)\n",
        "        temp = 0\n",
        "\n",
        "        for i in lst:\n",
        "            if len(i) > temp:\n",
        "                temp = len(i)\n",
        "        return temp"
      ],
      "metadata": {
        "id": "QPkKNiiVk89Z"
      },
      "execution_count": null,
      "outputs": []
    },
    {
      "cell_type": "markdown",
      "source": [
        "# Keyboard Typing *(old mobile typing)*"
      ],
      "metadata": {
        "id": "Dl9KpVQpxkT0"
      }
    },
    {
      "cell_type": "code",
      "source": [
        "d = str.maketrans({\n",
        "    'A':'2','B':'22','C':'222',\n",
        "    'D':'3','E':'33','F':'333',\n",
        "    'G':'4','H':'44','I':'444',\n",
        "    'J':'5','K':'55','L':'555',\n",
        "    'M':'6','N':'66','O':'666',\n",
        "    'P':'7','Q':'77','R':'777','S':'7777',\n",
        "    'T':'8','U':'88','V':'888',\n",
        "    'W':'9','X':'99','Y':'999','Z':'9999',\n",
        "    ' ':'0'\n",
        "})\n",
        "print('d', d)\n",
        "data = 'HELLO WORLD'\n",
        "\n",
        "print(data.translate(d))"
      ],
      "metadata": {
        "colab": {
          "base_uri": "https://localhost:8080/"
        },
        "id": "gFblgRl6x1qV",
        "outputId": "fec2d709-ab40-421c-895d-cfc0d58144c4"
      },
      "execution_count": null,
      "outputs": [
        {
          "output_type": "stream",
          "name": "stdout",
          "text": [
            "d {65: '2', 66: '22', 67: '222', 68: '3', 69: '33', 70: '333', 71: '4', 72: '44', 73: '444', 74: '5', 75: '55', 76: '555', 77: '6', 78: '66', 79: '666', 80: '7', 81: '77', 82: '777', 83: '7777', 84: '8', 85: '88', 86: '888', 87: '9', 88: '99', 89: '999', 90: '9999', 32: '0'}\n",
            "4433555555666096667775553\n"
          ]
        }
      ]
    },
    {
      "cell_type": "code",
      "source": [
        "d = {\n",
        "    1:'',\n",
        "    2:'ABC',\n",
        "    3:'DEF',\n",
        "    4:'GHI',\n",
        "    5:'JKL',\n",
        "    6:'MNO',\n",
        "    7:'PQRS',\n",
        "    8:'TUV',\n",
        "    9:'WXYZ',\n",
        "    0:' ',\n",
        "}\n",
        "\n",
        "data = 'HELLO WORLD'\n",
        "s = ''\n",
        "for i in data:\n",
        "    for k, v in d.items():\n",
        "        if i in v:\n",
        "            temp=''\n",
        "            temp+=(str(k)*(v.find(i)+1))\n",
        "            s+=temp\n",
        "print('str->>>>', s)"
      ],
      "metadata": {
        "colab": {
          "base_uri": "https://localhost:8080/"
        },
        "id": "x_M_JVd8x2o6",
        "outputId": "f9918e11-d1ed-409f-b89d-347b5aadc44f"
      },
      "execution_count": null,
      "outputs": [
        {
          "output_type": "stream",
          "name": "stdout",
          "text": [
            "str->>>> 4433555555666096667775553\n"
          ]
        }
      ]
    },
    {
      "cell_type": "markdown",
      "source": [
        "# Number of Valid Words in a Sentence"
      ],
      "metadata": {
        "id": "2gNghIEzUmwn"
      }
    },
    {
      "cell_type": "code",
      "source": [
        "# s = \"he bought 2 pencils, 3 erasers, and 1  pencil-sharpener.\"\n",
        "# s = \"!this  1-s b8d-d\"\n",
        "# s = \"a-d\"\n",
        "s = \"he bought 2 pencils, 3 erasers, and 1  pencil-sharpener.\"\n",
        "count = 0\n",
        "for word in list(s.split()):\n",
        "    comma_count = word.count(',')\n",
        "    dot_count = word.count('.')\n",
        "    exclamation_count = word.count('!')\n",
        "    hyphon_count = word.count('-')\n",
        "\n",
        "    if len(word) == 1 and word.isalpha() == False and word in ['.',',', '!']:\n",
        "        count+=1\n",
        "        print(\"len one\",word, count)\n",
        "    elif word[:-1].isalpha() and word[-1] in ['.',',', '!']:\n",
        "        count+=1\n",
        "        print(\"punctuation\", word)\n",
        "    elif len(word) >= 3 and word.count('-') == 1 and word[0] != '-' and word[-1] != '-' and word[:(word.find('-'))].isalpha() == True and word[word.find('-')+1:].isalpha() == True:\n",
        "        count+=1\n",
        "        print(\"hyphon\", word)\n",
        "    elif len(word) >= 3 and word.count('-') == 1 and word[0] != '-' and word[-1] != '-' and word[:(word.find('-'))].isalpha() == True and word[word.find('-')+1:-1].isalpha() == True and word[-1] in ['.',',', '!']:\n",
        "        count+=1\n",
        "        print(\"hyphon\", word)\n",
        "    elif word.isalpha():\n",
        "        count+=1\n",
        "        print(\"111\", word)\n",
        "print('count', count)"
      ],
      "metadata": {
        "id": "EF_y4TKrUoZN"
      },
      "execution_count": null,
      "outputs": []
    }
  ]
}